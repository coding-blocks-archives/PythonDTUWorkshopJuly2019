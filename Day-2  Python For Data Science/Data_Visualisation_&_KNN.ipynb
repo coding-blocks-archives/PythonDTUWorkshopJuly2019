{
  "nbformat": 4,
  "nbformat_minor": 0,
  "metadata": {
    "colab": {
      "name": "Data Visualisation & KNN.ipynb",
      "version": "0.3.2",
      "provenance": []
    },
    "kernelspec": {
      "name": "python3",
      "display_name": "Python 3"
    }
  },
  "cells": [
    {
      "cell_type": "code",
      "metadata": {
        "id": "LP8xx8yJNpWS",
        "colab_type": "code",
        "colab": {}
      },
      "source": [
        "import numpy as np\n",
        "import matplotlib.pyplot as plt"
      ],
      "execution_count": 0,
      "outputs": []
    },
    {
      "cell_type": "code",
      "metadata": {
        "id": "g4RqqCqrNxih",
        "colab_type": "code",
        "colab": {
          "base_uri": "https://localhost:8080/",
          "height": 51
        },
        "outputId": "71235a62-34b5-42f1-dec4-f724cb17565e"
      },
      "source": [
        "x = np.array([1,2,3,4,5])\n",
        "y = x**2\n",
        "\n",
        "print(x)\n",
        "print(y)"
      ],
      "execution_count": 4,
      "outputs": [
        {
          "output_type": "stream",
          "text": [
            "[1 2 3 4 5]\n",
            "[ 1  4  9 16 25]\n"
          ],
          "name": "stdout"
        }
      ]
    },
    {
      "cell_type": "code",
      "metadata": {
        "id": "6ck8dmCZN6yi",
        "colab_type": "code",
        "colab": {
          "base_uri": "https://localhost:8080/",
          "height": 547
        },
        "outputId": "b222191a-8eb3-483a-9a07-56a87b15d807"
      },
      "source": [
        "# Line Plot\n",
        "plt.plot(x,y,label=\"2018\",color='green',marker='*')\n",
        "plt.plot(x,x**3,label=\"2019\")\n",
        "plt.legend()\n",
        "plt.xlabel(\"Time\")\n",
        "plt.ylabel(\"Price\")\n",
        "plt.title(\"Stock Prices in 2018 -2019\")\n",
        "plt.show()\n",
        "\n",
        "#Scatter Plot (Points Plot)\n",
        "plt.scatter(x,y)\n",
        "plt.scatter(x,x**3,marker='*')\n",
        "\n",
        "plt.show()"
      ],
      "execution_count": 17,
      "outputs": [
        {
          "output_type": "display_data",
          "data": {
            "image/png": "[encoded data removed]",
            "text/plain": [
              "<Figure size 432x288 with 1 Axes>"
            ]
          },
          "metadata": {
            "tags": []
          }
        },
        {
          "output_type": "display_data",
          "data": {
            "image/png": "[encoded data removed]",
            "text/plain": [
              "<Figure size 432x288 with 1 Axes>"
            ]
          },
          "metadata": {
            "tags": []
          }
        }
      ]
    },
    {
      "cell_type": "code",
      "metadata": {
        "id": "M7Mtg_egOFh0",
        "colab_type": "code",
        "colab": {}
      },
      "source": [
        "plt.bar?"
      ],
      "execution_count": 0,
      "outputs": []
    },
    {
      "cell_type": "code",
      "metadata": {
        "id": "GIrPvtMPRctx",
        "colab_type": "code",
        "colab": {
          "base_uri": "https://localhost:8080/",
          "height": 269
        },
        "outputId": "18b1984b-6b30-48ab-83a8-3d1e9c844ffb"
      },
      "source": [
        "coordinates = np.array([0,2,4])\n",
        "items = [\"Gold\",\"Silver\",\"Platinum\"]\n",
        "plt.bar(coordinates,[10,20,15],width=0.5,label=\"2019\")\n",
        "plt.bar(coordinates+0.5,[12,24,45],width=0.5,label=\"2018\",tick_label=items)\n",
        "plt.legend()\n",
        "plt.show()"
      ],
      "execution_count": 33,
      "outputs": [
        {
          "output_type": "display_data",
          "data": {
            "image/png": "[encoded data removed]",
            "text/plain": [
              "<Figure size 432x288 with 1 Axes>"
            ]
          },
          "metadata": {
            "tags": []
          }
        }
      ]
    },
    {
      "cell_type": "code",
      "metadata": {
        "id": "vLa_COA7RpJ3",
        "colab_type": "code",
        "colab": {}
      },
      "source": [
        "xsn = np.random.randn(10000)"
      ],
      "execution_count": 0,
      "outputs": []
    },
    {
      "cell_type": "code",
      "metadata": {
        "id": "IgobXxNnR9-z",
        "colab_type": "code",
        "colab": {}
      },
      "source": [
        "# Mean 70, Std = 5\n",
        "\n",
        "x = np.round((xsn)*5 + 70)\n",
        "#print(x)"
      ],
      "execution_count": 0,
      "outputs": []
    },
    {
      "cell_type": "code",
      "metadata": {
        "id": "8ulIk4PYZr88",
        "colab_type": "code",
        "colab": {
          "base_uri": "https://localhost:8080/",
          "height": 337
        },
        "outputId": "86478637-b163-4501-e9ca-45d20cc6754e"
      },
      "source": [
        "plt.hist(x,bins=10)"
      ],
      "execution_count": 48,
      "outputs": [
        {
          "output_type": "execute_result",
          "data": {
            "text/plain": [
              "(array([  12.,   90.,  578., 1158., 2759., 2952., 1476.,  777.,  171.,\n",
              "          27.]),\n",
              " array([51. , 54.7, 58.4, 62.1, 65.8, 69.5, 73.2, 76.9, 80.6, 84.3, 88. ]),\n",
              " <a list of 10 Patch objects>)"
            ]
          },
          "metadata": {
            "tags": []
          },
          "execution_count": 48
        },
        {
          "output_type": "display_data",
          "data": {
            "image/png": "[encoded data removed]",
            "text/plain": [
              "<Figure size 432x288 with 1 Axes>"
            ]
          },
          "metadata": {
            "tags": []
          }
        }
      ]
    },
    {
      "cell_type": "code",
      "metadata": {
        "id": "kKFUF4dwZ6SS",
        "colab_type": "code",
        "colab": {
          "base_uri": "https://localhost:8080/",
          "height": 34
        },
        "outputId": "5db18295-7bde-4755-ed11-321dba382fbc"
      },
      "source": [
        "mean = np.array([1,3])\n",
        "cov = np.array([[1,0.5],[0.5,1]])\n",
        "\n",
        "mean2 = np.array([4,9])\n",
        "cov2 = np.array([[1,0],\n",
        "                 [0,1]])\n",
        "\n",
        "X_1 = np.random.multivariate_normal(mean,cov,100)\n",
        "X_2 = np.random.multivariate_normal(mean2,cov2,100)\n",
        "\n",
        "print(X_1.shape)"
      ],
      "execution_count": 65,
      "outputs": [
        {
          "output_type": "stream",
          "text": [
            "(100, 2)\n"
          ],
          "name": "stdout"
        }
      ]
    },
    {
      "cell_type": "code",
      "metadata": {
        "id": "tuu6ZYzNbXvV",
        "colab_type": "code",
        "colab": {
          "base_uri": "https://localhost:8080/",
          "height": 269
        },
        "outputId": "a03c2576-243b-4ac2-a1d3-ce25c9d1bd01"
      },
      "source": [
        "plt.scatter(X_1[:,0],X_1[:,1])\n",
        "plt.scatter(X_2[:,0],X_2[:,1])\n",
        "\n",
        "plt.show()"
      ],
      "execution_count": 70,
      "outputs": [
        {
          "output_type": "display_data",
          "data": {
            "image/png": "[encoded data removed]",
            "text/plain": [
              "<Figure size 432x288 with 1 Axes>"
            ]
          },
          "metadata": {
            "tags": []
          }
        }
      ]
    },
    {
      "cell_type": "code",
      "metadata": {
        "id": "cIxTqjgNbnUD",
        "colab_type": "code",
        "colab": {
          "base_uri": "https://localhost:8080/",
          "height": 51
        },
        "outputId": "9da6193e-63ce-4726-a199-7f8c777dc22d"
      },
      "source": [
        "# Data Preparation\n",
        "X = np.vstack((X_1,X_2))\n",
        "Y = np.zeros((200,),dtype='int32')\n",
        "\n",
        "Y[100: ] = 1\n",
        "\n",
        "print(X.shape)\n",
        "print(Y.shape)\n"
      ],
      "execution_count": 114,
      "outputs": [
        {
          "output_type": "stream",
          "text": [
            "(200, 2)\n",
            "(200,)\n"
          ],
          "name": "stdout"
        }
      ]
    },
    {
      "cell_type": "code",
      "metadata": {
        "id": "RjvXtMbZd0L9",
        "colab_type": "code",
        "colab": {
          "base_uri": "https://localhost:8080/",
          "height": 269
        },
        "outputId": "97fbf8db-e8a9-4792-81cb-002004732e97"
      },
      "source": [
        "plt.scatter(X[:,0],X[:,1],c=Y)\n",
        "plt.show()"
      ],
      "execution_count": 115,
      "outputs": [
        {
          "output_type": "display_data",
          "data": {
            "image/png": "[encoded data removed]",
            "text/plain": [
              "<Figure size 432x288 with 1 Axes>"
            ]
          },
          "metadata": {
            "tags": []
          }
        }
      ]
    },
    {
      "cell_type": "code",
      "metadata": {
        "id": "FpGiDo7_d9tz",
        "colab_type": "code",
        "colab": {
          "base_uri": "https://localhost:8080/",
          "height": 51
        },
        "outputId": "0cb43ca7-f1c9-40ce-d0ca-d475d8bf06cc"
      },
      "source": [
        "u = X.mean(axis=0)\n",
        "sig = X.std(axis=0)\n",
        "print(sig)\n",
        "print(u)"
      ],
      "execution_count": 116,
      "outputs": [
        {
          "output_type": "stream",
          "text": [
            "[1.84522474 3.09751007]\n",
            "[2.4620485  5.84920629]\n"
          ],
          "name": "stdout"
        }
      ]
    },
    {
      "cell_type": "code",
      "metadata": {
        "id": "tBx8Zd8sezE7",
        "colab_type": "code",
        "colab": {}
      },
      "source": [
        "# Normalisation \n",
        "\n",
        "X = (X-u)/sig\n"
      ],
      "execution_count": 0,
      "outputs": []
    },
    {
      "cell_type": "code",
      "metadata": {
        "id": "5E_g8RQifMO7",
        "colab_type": "code",
        "colab": {
          "base_uri": "https://localhost:8080/",
          "height": 269
        },
        "outputId": "c4dfd67c-a614-4f1a-903d-53968a60f077"
      },
      "source": [
        "test_point = np.array([-0.5,0.5])\n",
        "\n",
        "plt.scatter(X[:,0],X[:,1],c=Y)\n",
        "plt.scatter(test_point[0],test_point[1])\n",
        "\n",
        "plt.show()"
      ],
      "execution_count": 138,
      "outputs": [
        {
          "output_type": "display_data",
          "data": {
            "image/png": "[encoded data removed]",
            "text/plain": [
              "<Figure size 432x288 with 1 Axes>"
            ]
          },
          "metadata": {
            "tags": []
          }
        }
      ]
    },
    {
      "cell_type": "code",
      "metadata": {
        "id": "Bt6NrgKMgFSw",
        "colab_type": "code",
        "colab": {
          "base_uri": "https://localhost:8080/",
          "height": 34
        },
        "outputId": "b8cfcdb0-21c1-457a-ce2b-b1050dc34e71"
      },
      "source": [
        "def dist(a1,a2):\n",
        "    return np.sum((a1 - a2)**2)**0.5\n",
        "\n",
        "dist(a1,a2)"
      ],
      "execution_count": 139,
      "outputs": [
        {
          "output_type": "execute_result",
          "data": {
            "text/plain": [
              "5.0"
            ]
          },
          "metadata": {
            "tags": []
          },
          "execution_count": 139
        }
      ]
    },
    {
      "cell_type": "code",
      "metadata": {
        "id": "zaxJ8ov2ggRA",
        "colab_type": "code",
        "colab": {}
      },
      "source": [
        "def knn(X,Y,test_point,k=5):\n",
        "    \n",
        "    d = []\n",
        "    m = X.shape[0]\n",
        "    \n",
        "    for i in range(m):\n",
        "        current_dist = dist(test_point,X[i])\n",
        "        d.append((current_dist,Y[i]))\n",
        "    \n",
        "    d = sorted(d)\n",
        "    \n",
        "    d = np.array(d[:k])[:,1]\n",
        "    a,b = np.unique(d,return_counts=True)\n",
        "    #print(a,b)\n",
        "    idx = np.argmax(b)\n",
        "    return int(a[idx])\n",
        "    \n",
        "      \n",
        "    "
      ],
      "execution_count": 0,
      "outputs": []
    },
    {
      "cell_type": "code",
      "metadata": {
        "id": "xoy6tKzIhXBg",
        "colab_type": "code",
        "colab": {
          "base_uri": "https://localhost:8080/",
          "height": 34
        },
        "outputId": "e91ea1f3-b3c4-4efb-d753-6a1fa06e922a"
      },
      "source": [
        "knn(X,Y,test_point)"
      ],
      "execution_count": 141,
      "outputs": [
        {
          "output_type": "execute_result",
          "data": {
            "text/plain": [
              "1"
            ]
          },
          "metadata": {
            "tags": []
          },
          "execution_count": 141
        }
      ]
    },
    {
      "cell_type": "code",
      "metadata": {
        "id": "G0xQBLNfhZmp",
        "colab_type": "code",
        "colab": {}
      },
      "source": [
        "#np.unique([1,2,3,3,4,5,6,6,6,0,0,1],return_counts=True)"
      ],
      "execution_count": 0,
      "outputs": []
    },
    {
      "cell_type": "code",
      "metadata": {
        "id": "4_bI48YBiTc8",
        "colab_type": "code",
        "colab": {
          "base_uri": "https://localhost:8080/",
          "height": 34
        },
        "outputId": "6fef9a3f-12ed-41cf-8201-e1ae811ccb32"
      },
      "source": [
        "idx = np.argmax([2, 2, 1, 2, 1, 1, 3])\n",
        "print(idx)"
      ],
      "execution_count": 127,
      "outputs": [
        {
          "output_type": "stream",
          "text": [
            "6\n"
          ],
          "name": "stdout"
        }
      ]
    },
    {
      "cell_type": "code",
      "metadata": {
        "id": "dEx2FWEbikYk",
        "colab_type": "code",
        "colab": {}
      },
      "source": [
        "from keras.datasets import mnist"
      ],
      "execution_count": 0,
      "outputs": []
    },
    {
      "cell_type": "code",
      "metadata": {
        "id": "DG1RRvT-jz8g",
        "colab_type": "code",
        "colab": {}
      },
      "source": [
        "(XT,YT),(Xt,Yt) = mnist.load_data()"
      ],
      "execution_count": 0,
      "outputs": []
    },
    {
      "cell_type": "code",
      "metadata": {
        "id": "8xKq0lyQkKqd",
        "colab_type": "code",
        "colab": {
          "base_uri": "https://localhost:8080/",
          "height": 34
        },
        "outputId": "eff07dcb-4caa-4688-8db5-8bf80c42d30e"
      },
      "source": [
        "print(XT.shape)"
      ],
      "execution_count": 151,
      "outputs": [
        {
          "output_type": "stream",
          "text": [
            "(60000, 28, 28)\n"
          ],
          "name": "stdout"
        }
      ]
    },
    {
      "cell_type": "code",
      "metadata": {
        "id": "RhNzqI_WkL_S",
        "colab_type": "code",
        "colab": {
          "base_uri": "https://localhost:8080/",
          "height": 269
        },
        "outputId": "b84ad241-fc16-4ec6-86fc-0cb6e5c1dce8"
      },
      "source": [
        "plt.imshow(XT[2],cmap='gray')\n",
        "plt.show()"
      ],
      "execution_count": 159,
      "outputs": [
        {
          "output_type": "display_data",
          "data": {
            "image/png": "[encoded data removed]",
            "text/plain": [
              "<Figure size 432x288 with 1 Axes>"
            ]
          },
          "metadata": {
            "tags": []
          }
        }
      ]
    },
    {
      "cell_type": "code",
      "metadata": {
        "id": "zKGzZMSvkcLj",
        "colab_type": "code",
        "colab": {
          "base_uri": "https://localhost:8080/",
          "height": 34
        },
        "outputId": "f2fd2b94-c75e-4cde-a81b-357c78360fa5"
      },
      "source": [
        "print(YT[2])"
      ],
      "execution_count": 161,
      "outputs": [
        {
          "output_type": "stream",
          "text": [
            "4\n"
          ],
          "name": "stdout"
        }
      ]
    },
    {
      "cell_type": "code",
      "metadata": {
        "id": "mAaeX840kuRC",
        "colab_type": "code",
        "colab": {
          "base_uri": "https://localhost:8080/",
          "height": 286
        },
        "outputId": "1955f13a-1d58-4c5b-a459-be571dc04512"
      },
      "source": [
        "plt.imshow(Xt[0],cmap='gray')"
      ],
      "execution_count": 163,
      "outputs": [
        {
          "output_type": "execute_result",
          "data": {
            "text/plain": [
              "<matplotlib.image.AxesImage at 0x7fbab8fef128>"
            ]
          },
          "metadata": {
            "tags": []
          },
          "execution_count": 163
        },
        {
          "output_type": "display_data",
          "data": {
            "image/png": "[encoded data removed]",
            "text/plain": [
              "<Figure size 432x288 with 1 Axes>"
            ]
          },
          "metadata": {
            "tags": []
          }
        }
      ]
    },
    {
      "cell_type": "code",
      "metadata": {
        "id": "BrNJGJvMlsF4",
        "colab_type": "code",
        "colab": {
          "base_uri": "https://localhost:8080/",
          "height": 34
        },
        "outputId": "08fdb759-1ec4-4b97-ab75-e0766d22091f"
      },
      "source": [
        "knn(XT,YT,Xt[0],k=5)"
      ],
      "execution_count": 165,
      "outputs": [
        {
          "output_type": "execute_result",
          "data": {
            "text/plain": [
              "7"
            ]
          },
          "metadata": {
            "tags": []
          },
          "execution_count": 165
        }
      ]
    },
    {
      "cell_type": "code",
      "metadata": {
        "id": "lrI5n8A0l1qE",
        "colab_type": "code",
        "colab": {}
      },
      "source": [
        ""
      ],
      "execution_count": 0,
      "outputs": []
    }
  ]
}