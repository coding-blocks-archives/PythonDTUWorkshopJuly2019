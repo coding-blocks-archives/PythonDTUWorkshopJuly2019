{
  "nbformat": 4,
  "nbformat_minor": 0,
  "metadata": {
    "colab": {
      "name": "Gradient Descent",
      "version": "0.3.2",
      "provenance": []
    },
    "kernelspec": {
      "name": "python3",
      "display_name": "Python 3"
    }
  },
  "cells": [
    {
      "cell_type": "code",
      "metadata": {
        "id": "JoNOkp5EVDDY",
        "colab_type": "code",
        "colab": {}
      },
      "source": [
        "import numpy as np\n",
        "import matplotlib.pyplot as plt"
      ],
      "execution_count": 0,
      "outputs": []
    },
    {
      "cell_type": "code",
      "metadata": {
        "id": "bYQN6c3tXjEJ",
        "colab_type": "code",
        "colab": {
          "base_uri": "https://localhost:8080/",
          "height": 286
        },
        "outputId": "e27e3087-393f-4131-82f9-059035e82869"
      },
      "source": [
        "x = np.arange(10)\n",
        "y = (x-5)**2\n",
        "print(x,y)\n",
        "plt.plot(x,y)\n",
        "plt.show()"
      ],
      "execution_count": 6,
      "outputs": [
        {
          "output_type": "stream",
          "text": [
            "[0 1 2 3 4 5 6 7 8 9] [25 16  9  4  1  0  1  4  9 16]\n"
          ],
          "name": "stdout"
        },
        {
          "output_type": "display_data",
          "data": {
            "image/png": "[encoded data removed]",
            "text/plain": [
              "<Figure size 432x288 with 1 Axes>"
            ]
          },
          "metadata": {
            "tags": []
          }
        }
      ]
    },
    {
      "cell_type": "code",
      "metadata": {
        "id": "MqSP8fQwYeuZ",
        "colab_type": "code",
        "colab": {
          "base_uri": "https://localhost:8080/",
          "height": 1000
        },
        "outputId": "fe6f6abe-aab4-4df3-970f-5a5f2befeec2"
      },
      "source": [
        "# Gradient Descent\n",
        "x_  = 9 #Random Init\n",
        "TOTAL_STEPS = 50\n",
        "LR = 0.1\n",
        "error = []\n",
        "x_list = []\n",
        "\n",
        "for i in range(TOTAL_STEPS):\n",
        "    x_ = x_ - LR*2*(x_-5)\n",
        "    e = (x_-5)**2\n",
        "    print(\"Step %d X %.3f  Error %.3f\"%(i,x_,e))\n",
        "    error.append(e)\n",
        "    x_list.append(x_)\n",
        "\n",
        "plt.plot(error)\n",
        "plt.show()"
      ],
      "execution_count": 29,
      "outputs": [
        {
          "output_type": "stream",
          "text": [
            "Step 0 X 8.200  Error 10.240\n",
            "Step 1 X 7.560  Error 6.554\n",
            "Step 2 X 7.048  Error 4.194\n",
            "Step 3 X 6.638  Error 2.684\n",
            "Step 4 X 6.311  Error 1.718\n",
            "Step 5 X 6.049  Error 1.100\n",
            "Step 6 X 5.839  Error 0.704\n",
            "Step 7 X 5.671  Error 0.450\n",
            "Step 8 X 5.537  Error 0.288\n",
            "Step 9 X 5.429  Error 0.184\n",
            "Step 10 X 5.344  Error 0.118\n",
            "Step 11 X 5.275  Error 0.076\n",
            "Step 12 X 5.220  Error 0.048\n",
            "Step 13 X 5.176  Error 0.031\n",
            "Step 14 X 5.141  Error 0.020\n",
            "Step 15 X 5.113  Error 0.013\n",
            "Step 16 X 5.090  Error 0.008\n",
            "Step 17 X 5.072  Error 0.005\n",
            "Step 18 X 5.058  Error 0.003\n",
            "Step 19 X 5.046  Error 0.002\n",
            "Step 20 X 5.037  Error 0.001\n",
            "Step 21 X 5.030  Error 0.001\n",
            "Step 22 X 5.024  Error 0.001\n",
            "Step 23 X 5.019  Error 0.000\n",
            "Step 24 X 5.015  Error 0.000\n",
            "Step 25 X 5.012  Error 0.000\n",
            "Step 26 X 5.010  Error 0.000\n",
            "Step 27 X 5.008  Error 0.000\n",
            "Step 28 X 5.006  Error 0.000\n",
            "Step 29 X 5.005  Error 0.000\n",
            "Step 30 X 5.004  Error 0.000\n",
            "Step 31 X 5.003  Error 0.000\n",
            "Step 32 X 5.003  Error 0.000\n",
            "Step 33 X 5.002  Error 0.000\n",
            "Step 34 X 5.002  Error 0.000\n",
            "Step 35 X 5.001  Error 0.000\n",
            "Step 36 X 5.001  Error 0.000\n",
            "Step 37 X 5.001  Error 0.000\n",
            "Step 38 X 5.001  Error 0.000\n",
            "Step 39 X 5.001  Error 0.000\n",
            "Step 40 X 5.000  Error 0.000\n",
            "Step 41 X 5.000  Error 0.000\n",
            "Step 42 X 5.000  Error 0.000\n",
            "Step 43 X 5.000  Error 0.000\n",
            "Step 44 X 5.000  Error 0.000\n",
            "Step 45 X 5.000  Error 0.000\n",
            "Step 46 X 5.000  Error 0.000\n",
            "Step 47 X 5.000  Error 0.000\n",
            "Step 48 X 5.000  Error 0.000\n",
            "Step 49 X 5.000  Error 0.000\n"
          ],
          "name": "stdout"
        },
        {
          "output_type": "display_data",
          "data": {
            "image/png": "[encoded data removed]",
            "text/plain": [
              "<Figure size 432x288 with 1 Axes>"
            ]
          },
          "metadata": {
            "tags": []
          }
        }
      ]
    },
    {
      "cell_type": "code",
      "metadata": {
        "id": "NCY8m_KTZo-P",
        "colab_type": "code",
        "colab": {
          "base_uri": "https://localhost:8080/",
          "height": 269
        },
        "outputId": "ee811262-7fe8-4cb7-893f-1613fbcb6211"
      },
      "source": [
        "plt.plot(x,y)\n",
        "plt.scatter(x_list,error,c=x_list)\n",
        "plt.show()"
      ],
      "execution_count": 30,
      "outputs": [
        {
          "output_type": "display_data",
          "data": {
            "image/png": "[encoded data removed]",
            "text/plain": [
              "<Figure size 432x288 with 1 Axes>"
            ]
          },
          "metadata": {
            "tags": []
          }
        }
      ]
    },
    {
      "cell_type": "code",
      "metadata": {
        "id": "bemYpw-8bTbI",
        "colab_type": "code",
        "colab": {}
      },
      "source": [
        ""
      ],
      "execution_count": 0,
      "outputs": []
    }
  ]
}